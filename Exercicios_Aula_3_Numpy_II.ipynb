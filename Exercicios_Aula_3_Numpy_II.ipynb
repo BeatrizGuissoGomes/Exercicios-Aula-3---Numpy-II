{
  "cells": [
    {
      "cell_type": "markdown",
      "metadata": {
        "id": "n_pSGMCDIAzR"
      },
      "source": [
        "## Vamos praticar?"
      ]
    },
    {
      "cell_type": "markdown",
      "metadata": {
        "id": "HejvYFsVIAzT"
      },
      "source": [
        "Em grupos, resolvam os exercícios a seguir."
      ]
    },
    {
      "cell_type": "markdown",
      "metadata": {
        "id": "UcwiBDgmIAzU"
      },
      "source": [
        "**1.** Em uma **análise de regressão**, usualmente estamos interessados em descrever relações entre variáveis de um dado conjunto de dados por meio de uma **função** que descreva, o tanto quanto possível, estas relações.\n",
        "\n",
        "Por exemplo, no gráfico abaixo, os pontos vermelhos relacionam as medidas das duas variáveis sendo avaliadas (nos eixos x e y); e a linha azul aproxima a relação entre elas por uma função linear."
      ]
    },
    {
      "cell_type": "markdown",
      "metadata": {
        "id": "vtM3elbDIAzZ"
      },
      "source": [
        "![Normdist_regression.png](attachment:Normdist_regression.png)"
      ]
    },
    {
      "cell_type": "markdown",
      "metadata": {
        "id": "OdHF7XzlIAzb"
      },
      "source": [
        "É possível ver que nem todos os pontos obedecem exatamente à relação ditada pela reta (isto é, há pontos que não estão exatamente \"sobre a reta\"; mas, sim, ligeraimente acima, ou abaixo, dela). Isto, contudo, é esperado em um modelo de regressão, por inúmeras fontes de incerteza associadas às medições."
      ]
    },
    {
      "cell_type": "markdown",
      "metadata": {
        "id": "Ds5QS65jIAzi"
      },
      "source": [
        "Uma das métricas que utilizamos para avaliar a qualidade de uma regressão é o **erro quadrático médio (EQM)**, que mensura a diferença total entre cada predição da regressão ($y_{prediction}$; que no nosso caso seriam os valores de y para a reta azul) com o valor real de cada i-ésima medida ($y_{i}$; que no nosso caso seriam as coordenadas y para cada ponto vermelho do gráfico). O EQM pode ser definido como:"
      ]
    },
    {
      "cell_type": "markdown",
      "metadata": {
        "id": "eiXp7z1vIAzm"
      },
      "source": [
        "$EQM = \\frac{1}{n}\\sum_{i=1}^{n}(y_{prediction} - y_{i})^2$."
      ]
    },
    {
      "cell_type": "markdown",
      "metadata": {
        "id": "eufTM1bhIAzo"
      },
      "source": [
        "Isto posto, escreva uma função que calcule o EQM recebendo, como entrada, os vetores $y_{prediction}$ e $y_{i}$. Por exemplo, digamos que sua função se chame *calculate_eqm*, ela deve operar da seguinte forma:"
      ]
    },
    {
      "cell_type": "code",
      "execution_count": 4,
      "metadata": {
        "colab": {
          "base_uri": "https://localhost:8080/"
        },
        "id": "Z2rKgTAEIAzr",
        "outputId": "b2f8a4ba-302f-4912-fd68-156d1fe147b0"
      },
      "outputs": [
        {
          "output_type": "execute_result",
          "data": {
            "text/plain": [
              "1.6666666666666667"
            ]
          },
          "metadata": {},
          "execution_count": 4
        }
      ],
      "source": [
        "# dados dois arrays quaisquer de mesmo tamanho, a função deve retornar o EQM\n",
        "y_prediction = np.array([1,2,3])\n",
        "y_i = np.array([0,0,3])\n",
        "calculate_eqm(y_prediction,y_i)"
      ]
    },
    {
      "cell_type": "code",
      "execution_count": null,
      "metadata": {
        "id": "PpiCs24MIAz0"
      },
      "outputs": [],
      "source": [
        "# Solução"
      ]
    },
    {
      "cell_type": "code",
      "source": [
        "import numpy as np\n",
        "def calculate_eqm(y_prediction,y_i):\n",
        "  return (((y_prediction - y_i)**2).sum())/y_prediction.size"
      ],
      "metadata": {
        "id": "EphzOVZVJN5L"
      },
      "execution_count": 3,
      "outputs": []
    },
    {
      "cell_type": "code",
      "source": [
        "calculate_eqm(np.array([1,2,3]),np.array([0,0,3]))"
      ],
      "metadata": {
        "colab": {
          "base_uri": "https://localhost:8080/"
        },
        "id": "wICze74JJ5mE",
        "outputId": "23e97e31-e8cb-4b68-ef90-059188860fb3"
      },
      "execution_count": 7,
      "outputs": [
        {
          "output_type": "execute_result",
          "data": {
            "text/plain": [
              "1.6666666666666667"
            ]
          },
          "metadata": {},
          "execution_count": 7
        }
      ]
    },
    {
      "cell_type": "markdown",
      "metadata": {
        "id": "6N33E6ZQIAz9"
      },
      "source": [
        "**2.** A eletroencefalografia (EEG) é uma técnica que mensura potenciais elétricos cerebrais em diversas regiões do escalpo do paciente. Suponha que você recebeu um conjunto de dados na forma de uma matriz de 64 x 512 elementos, em que cada linha contém o sinal gravado em um dos **eletrodos** espalhados pelo escalpo em um exame de EEG, e cada coluna contém um valor de potencial elétrico, em microvolts. "
      ]
    },
    {
      "cell_type": "markdown",
      "metadata": {
        "id": "RFMNC1Z0IA0F"
      },
      "source": [
        "Como o sinal de EEG é muito suscetível a ruídos externos (interferências na qualidade do sinal), uma operação comum para atenuar a interferência no sinal consiste em tirar a média do potencial elétrico de todos os eletrodos, e subtrair este valor de cada um deles. Isto atenua fontes de ruído ao sinal comuns a todos os eletrodos. Em termos matemáticos, o sinal processado por esta operação, $X_{e,i}$ para cada eletrodo (e) e amostra (i), é dado por:"
      ]
    },
    {
      "cell_type": "markdown",
      "metadata": {
        "id": "oXrJjzJbIA0K"
      },
      "source": [
        "$X_{e,i} = \\hat{X_{e,i}} - \\frac{1}{N}\\sum_{e=1}^{N}\\hat{X_{e,i}}$,\n",
        "\n",
        "em que $\\hat{X_{e,i}}$ representa o sinal original (ou seja, é a matriz de entrada de 64 x 512 elementos), e $N$ indica o total de eletrodos."
      ]
    },
    {
      "cell_type": "markdown",
      "metadata": {
        "id": "_SYMxU6bIA0N"
      },
      "source": [
        "Com o exposto acima, escreva uma função que retorne uma matriz com os sinais de EEG processados conforme a operação mencionada. Sua função deve operar conforme o exemplo abaixo."
      ]
    },
    {
      "cell_type": "code",
      "execution_count": 11,
      "metadata": {
        "colab": {
          "base_uri": "https://localhost:8080/"
        },
        "id": "qPMOjcLyIA0O",
        "outputId": "a287fce9-c6cb-438c-d193-fddc21d549d4"
      },
      "outputs": [
        {
          "output_type": "execute_result",
          "data": {
            "text/plain": [
              "(64, 512)"
            ]
          },
          "metadata": {},
          "execution_count": 11
        }
      ],
      "source": [
        "# vamos supor uma matriz de entrada gerada por dados aleatórios\n",
        "X = np.random.randn(64,512)\n",
        "X.shape # apenas para verificar as dimensões"
      ]
    },
    {
      "cell_type": "code",
      "execution_count": 14,
      "metadata": {
        "colab": {
          "base_uri": "https://localhost:8080/"
        },
        "id": "hKMCj5HFIA0V",
        "outputId": "86e94ba6-b610-4c30-d976-4db31e6437c4"
      },
      "outputs": [
        {
          "output_type": "execute_result",
          "data": {
            "text/plain": [
              "(64, 512)"
            ]
          },
          "metadata": {},
          "execution_count": 14
        }
      ],
      "source": [
        "# a função deve executar a operação equacionada anteriormente, retornando uma nova matriz\n",
        "X_processado = process_EEG_signal(X)\n",
        "X_processado.shape"
      ]
    },
    {
      "cell_type": "code",
      "execution_count": 15,
      "metadata": {
        "colab": {
          "base_uri": "https://localhost:8080/"
        },
        "id": "4AopqbEWIA0W",
        "outputId": "5441c27b-7b74-4e8a-d230-546ac74b477e"
      },
      "outputs": [
        {
          "output_type": "execute_result",
          "data": {
            "text/plain": [
              "206.14095288134456"
            ]
          },
          "metadata": {},
          "execution_count": 15
        }
      ],
      "source": [
        "# Somando as diferenças entre cada elemento das duas matrizes, apenas para ilustrar que elas não são iguais\n",
        "(X_processado - X).sum()"
      ]
    },
    {
      "cell_type": "code",
      "execution_count": 16,
      "metadata": {
        "colab": {
          "base_uri": "https://localhost:8080/"
        },
        "id": "ZEeK_PXQIA0Y",
        "outputId": "3c05a140-9927-40c6-8faa-bfee3c33573d"
      },
      "outputs": [
        {
          "output_type": "execute_result",
          "data": {
            "text/plain": [
              "array([[ 0.57430346,  0.08936506, -1.46032163, ..., -0.75434204,\n",
              "         0.18995094,  0.54583611],\n",
              "       [ 1.45379076, -0.94533348, -0.63880554, ..., -0.46497218,\n",
              "         0.70758156,  0.13872607],\n",
              "       [ 0.66311823, -0.85944194,  0.68644643, ..., -0.55910956,\n",
              "        -0.31861367, -0.25926174],\n",
              "       ...,\n",
              "       [ 0.05082036, -1.09153442, -0.01908577, ..., -0.60208308,\n",
              "        -0.20733395,  1.9125424 ],\n",
              "       [-1.33291363,  0.58527041, -0.21514636, ...,  0.44830688,\n",
              "        -1.46717407, -0.84984173],\n",
              "       [ 0.81093158, -0.33094225,  0.12651271, ..., -1.95473653,\n",
              "        -0.18237973, -1.2810279 ]])"
            ]
          },
          "metadata": {},
          "execution_count": 16
        }
      ],
      "source": [
        "# Visualizando as matrizes, para verificar uma vez mais que, de fato, os elementos são diferentes\n",
        "X"
      ]
    },
    {
      "cell_type": "code",
      "execution_count": 17,
      "metadata": {
        "colab": {
          "base_uri": "https://localhost:8080/"
        },
        "id": "dlbq3gbHIA0c",
        "outputId": "ee21d908-a4b1-4897-c5e2-48b6a8a14125"
      },
      "outputs": [
        {
          "output_type": "execute_result",
          "data": {
            "text/plain": [
              "array([[ 0.58059438,  0.09565598, -1.4540307 , ..., -0.74805112,\n",
              "         0.19624186,  0.55212704],\n",
              "       [ 1.46008168, -0.93904256, -0.63251462, ..., -0.45868126,\n",
              "         0.71387248,  0.14501699],\n",
              "       [ 0.66940915, -0.85315101,  0.69273735, ..., -0.55281864,\n",
              "        -0.31232275, -0.25297082],\n",
              "       ...,\n",
              "       [ 0.05711128, -1.0852435 , -0.01279485, ..., -0.59579216,\n",
              "        -0.20104303,  1.91883332],\n",
              "       [-1.3266227 ,  0.59156133, -0.20885544, ...,  0.4545978 ,\n",
              "        -1.46088314, -0.84355081],\n",
              "       [ 0.8172225 , -0.32465132,  0.13280363, ..., -1.94844561,\n",
              "        -0.17608881, -1.27473698]])"
            ]
          },
          "metadata": {},
          "execution_count": 17
        }
      ],
      "source": [
        "# Matriz após o processamento descrito no enunciado\n",
        "X_processado"
      ]
    },
    {
      "cell_type": "code",
      "execution_count": null,
      "metadata": {
        "id": "p_L9s7LPIA0d"
      },
      "outputs": [],
      "source": [
        "# Solução"
      ]
    },
    {
      "cell_type": "code",
      "source": [
        "import numpy as np\n",
        "def process_EEG_signal(X):\n",
        "  return X - X.mean()"
      ],
      "metadata": {
        "id": "DrN3KwgfKl7C"
      },
      "execution_count": 13,
      "outputs": []
    },
    {
      "cell_type": "markdown",
      "metadata": {
        "id": "-JHlvjo-IA0f"
      },
      "source": [
        "**3.** Em estatística, um **outlier** é um valor que destoa consideravelmente da distribuição à qual está associado. Um dos critérios para idenficar outliers consiste em encontrar a **distância interquantil** (IQR), ou seja, a diferença entre o terceiro (Q3) e o primeiro quartis (Q1) da distribuição, e tomar como outliers todos os pontos abaixo de 1.5*IQR - Q1, ou acima de 1.5*IQR + Q3."
      ]
    },
    {
      "cell_type": "markdown",
      "metadata": {
        "id": "XPcuNtXeIA0l"
      },
      "source": [
        "<img src = \"https://blog.curso-r.com/images/posts/banner/outlier.webp\" />"
      ]
    },
    {
      "cell_type": "markdown",
      "metadata": {
        "id": "g3pDCsGmIA0m"
      },
      "source": [
        "Escreva uma função que, dada uma matriz de dados de entrada de dimensões $N_{observações} \\times N_{features}$ retorne três requisitos: \n",
        "- uma matriz booleana indicando a existência de outliers nos dados de entrada;\n",
        "- a quantidade de outliers\n",
        "- quem são os outliers (os valores)."
      ]
    },
    {
      "cell_type": "markdown",
      "metadata": {
        "id": "T1kCSEpCIA0o"
      },
      "source": [
        "**Algumas definições:**\n",
        "- um *quantil* divide a distribuição, após ordenados os pontos, segundo algum ponto de corte;\n",
        "- o **primeiro quartil** é o ponto para o qual 25 % dos valores da distribuição estão abaixo dele;\n",
        "- o **terceiro quartil** é o ponto para o qual 75 % dos valores da distribuição estão abaixo dele.\n",
        "\n",
        "Pode ser útil consultar a função **numpy.quantile**."
      ]
    },
    {
      "cell_type": "markdown",
      "metadata": {
        "id": "NXQpviaMIA0p"
      },
      "source": [
        "Exemplo de operação da função:"
      ]
    },
    {
      "cell_type": "code",
      "execution_count": null,
      "metadata": {
        "id": "XCRdsIMIIA0q",
        "outputId": "5b5291bb-66ce-4627-eb9e-14e421919ea0"
      },
      "outputs": [
        {
          "data": {
            "text/plain": [
              "array([[-2.02108952,  0.57945921, -2.23074965, ..., -0.60349514,\n",
              "         0.92180452, -0.15625722],\n",
              "       [ 0.24904397,  0.03493447,  0.3515052 , ..., -0.46950081,\n",
              "         0.20361331,  0.02715956],\n",
              "       [ 0.55902525, -0.48435434,  0.90413414, ..., -0.54425743,\n",
              "        -0.80769134, -0.07912549],\n",
              "       ...,\n",
              "       [-1.04069388, -0.24245725, -2.00308877, ...,  0.4084777 ,\n",
              "        -1.81516131,  0.39063118],\n",
              "       [-1.39275097,  0.3989636 ,  0.2926223 , ...,  1.2620666 ,\n",
              "         0.72262949,  1.50737559],\n",
              "       [ 0.15922011, -0.79810788, -1.60939896, ..., -0.08214499,\n",
              "        -0.13167475,  0.15990558]])"
            ]
          },
          "execution_count": 158,
          "metadata": {},
          "output_type": "execute_result"
        }
      ],
      "source": [
        "# Geremos um conjunto de dados qualquer\n",
        "X = np.random.randn(300,15)\n",
        "X"
      ]
    },
    {
      "cell_type": "code",
      "execution_count": null,
      "metadata": {
        "id": "ZS1-FNt-IA1V"
      },
      "outputs": [],
      "source": [
        "# identificamos os requisitos com nossa com nossa função \"locate_outliers\"\n",
        "is_outlier, outliers_count, outliers = locate_outliers(X)"
      ]
    },
    {
      "cell_type": "code",
      "execution_count": null,
      "metadata": {
        "id": "N-CjfnF5IA1X",
        "outputId": "31c8e2ff-4c5d-4fc2-aa9f-fd37281b5ea4"
      },
      "outputs": [
        {
          "data": {
            "text/plain": [
              "array([[False, False, False, ..., False, False, False],\n",
              "       [False, False, False, ..., False, False, False],\n",
              "       [False, False, False, ..., False, False, False],\n",
              "       ...,\n",
              "       [False, False, False, ..., False, False, False],\n",
              "       [False, False, False, ..., False, False, False],\n",
              "       [False, False, False, ..., False, False, False]])"
            ]
          },
          "execution_count": 168,
          "metadata": {},
          "output_type": "execute_result"
        }
      ],
      "source": [
        "is_outlier"
      ]
    },
    {
      "cell_type": "code",
      "execution_count": null,
      "metadata": {
        "id": "BidNfhmAIA1Z",
        "outputId": "23b7b07c-53c9-4586-e02a-248eb5fd926f"
      },
      "outputs": [
        {
          "data": {
            "text/plain": [
              "44"
            ]
          },
          "execution_count": 165,
          "metadata": {},
          "output_type": "execute_result"
        }
      ],
      "source": [
        "outliers_count"
      ]
    },
    {
      "cell_type": "code",
      "execution_count": null,
      "metadata": {
        "id": "BDxxmgXXIA1e",
        "outputId": "ac605f25-26cf-4876-90b1-5f2b22365e45"
      },
      "outputs": [
        {
          "data": {
            "text/plain": [
              "array([-2.67240384,  3.00270904,  3.62317101,  3.18867865,  2.55581522,\n",
              "       -2.82091429,  2.8757892 ,  2.70666036,  3.19514999, -3.40550318,\n",
              "       -3.39825827,  2.6727295 ,  2.54498296, -2.69447104,  3.19521603,\n",
              "        2.66372172, -2.77444948,  2.77421152,  2.69992869, -2.84831109,\n",
              "       -2.83695779, -2.45908227,  3.07802106,  2.89314015, -2.68574682,\n",
              "       -2.85019494,  2.43399574,  2.44291266, -2.92595937, -2.95911074,\n",
              "       -3.03966003,  2.77543068, -2.67368414, -2.79965402, -3.0501958 ,\n",
              "       -2.5437387 ,  3.08550649, -3.17666255, -3.05795476, -3.09826467,\n",
              "        3.1399469 ,  3.18141942,  2.90564257, -2.89505054])"
            ]
          },
          "execution_count": 166,
          "metadata": {},
          "output_type": "execute_result"
        }
      ],
      "source": [
        "outliers"
      ]
    },
    {
      "cell_type": "code",
      "execution_count": null,
      "metadata": {
        "id": "eGKQMnVpIA1h"
      },
      "outputs": [],
      "source": [
        "# Solução"
      ]
    },
    {
      "cell_type": "code",
      "source": [
        "def locate_outliers (X):\n",
        "  is_outlier = [(X < (1.5*(np.quantile(X, 0.75) - np.quantile(X, 0.25))) - (np.quantile(X,0.25))) & (X > (1.5*(np.quantile(X, 0.75) - np.quantile(X, 0.25))) + (np.quantile(X,0.75)))]\n",
        "  outliers = X[(X < (1.5*(np.quantile(X, 0.75) - np.quantile(X, 0.25))) - (np.quantile(X,0.25))) & (X > (1.5*(np.quantile(X, 0.75) - np.quantile(X, 0.25))) + (np.quantile(X,0.75)))]\n",
        "  outliers_count = outliers.size\n",
        "  return print(f\"is_outlier:\\n{is_outlier} \\n \\noutliers_count:\\n{outliers_count} \\n \\noutliers:\\n{outliers}\")\n",
        "\n",
        "X = np.random.randn(300,15)\n",
        "locate_outliers(X)\n"
      ],
      "metadata": {
        "colab": {
          "base_uri": "https://localhost:8080/"
        },
        "id": "vpbQlu72MHbH",
        "outputId": "dfbb271d-766a-4cc8-c4c8-84e4872719d6"
      },
      "execution_count": 76,
      "outputs": [
        {
          "output_type": "stream",
          "name": "stdout",
          "text": [
            "is_outlier:\n",
            "[array([[False, False, False, ..., False, False, False],\n",
            "       [False, False, False, ..., False, False, False],\n",
            "       [False, False, False, ..., False, False, False],\n",
            "       ...,\n",
            "       [False, False, False, ..., False, False, False],\n",
            "       [False, False, False, ..., False, False, False],\n",
            "       [False, False, False, ..., False, False, False]])] \n",
            " \n",
            "outliers_count:\n",
            "4 \n",
            " \n",
            "outliers:\n",
            "[2.68872949 2.67964166 2.66123224 2.6887699 ]\n"
          ]
        }
      ]
    }
  ],
  "metadata": {
    "kernelspec": {
      "display_name": "Python 3",
      "language": "python",
      "name": "python3"
    },
    "language_info": {
      "codemirror_mode": {
        "name": "ipython",
        "version": 3
      },
      "file_extension": ".py",
      "mimetype": "text/x-python",
      "name": "python",
      "nbconvert_exporter": "python",
      "pygments_lexer": "ipython3",
      "version": "3.8.5"
    },
    "colab": {
      "provenance": []
    }
  },
  "nbformat": 4,
  "nbformat_minor": 0
}